{
 "cells": [
  {
   "cell_type": "code",
   "execution_count": 1,
   "id": "593fea29-b1f4-4989-8100-696c643176ac",
   "metadata": {},
   "outputs": [
    {
     "name": "stdout",
     "output_type": "stream",
     "text": [
      "Collecting confluent-kafka\n",
      "  Downloading confluent_kafka-2.8.0-cp312-cp312-manylinux_2_28_aarch64.whl.metadata (21 kB)\n",
      "Downloading confluent_kafka-2.8.0-cp312-cp312-manylinux_2_28_aarch64.whl (15.2 MB)\n",
      "\u001b[2K   \u001b[90m━━━━━━━━━━━━━━━━━━━━━━━━━━━━━━━━━━━━━━━━\u001b[0m \u001b[32m15.2/15.2 MB\u001b[0m \u001b[31m13.5 MB/s\u001b[0m eta \u001b[36m0:00:00\u001b[0ma \u001b[36m0:00:01\u001b[0m\n",
      "Installing collected packages: confluent-kafka\n",
      "Successfully installed confluent-kafka-2.8.0\n",
      "\u001b[33mWARNING: Running pip as the 'root' user can result in broken permissions and conflicting behaviour with the system package manager, possibly rendering your system unusable.It is recommended to use a virtual environment instead: https://pip.pypa.io/warnings/venv. Use the --root-user-action option if you know what you are doing and want to suppress this warning.\u001b[0m\u001b[33m\n",
      "\u001b[0m"
     ]
    }
   ],
   "source": [
    "!pip install confluent-kafka"
   ]
  },
  {
   "cell_type": "code",
   "execution_count": 4,
   "id": "cf24639c-761b-4384-ae5e-d29f09b10648",
   "metadata": {},
   "outputs": [],
   "source": [
    "import cv2\n",
    "import pandas as pd\n",
    "import IPython\n",
    "import numpy as np\n",
    "import librosa\n",
    "import os\n",
    "from glob import glob\n",
    "from confluent_kafka import Producer\n",
    "import json\n"
   ]
  },
  {
   "cell_type": "code",
   "execution_count": 6,
   "id": "22544835-fee1-4af4-8e16-7dd2b6803c0e",
   "metadata": {},
   "outputs": [],
   "source": [
    "fans = glob('/opt/audio_files/*_fan/*/normal/*.wav')"
   ]
  },
  {
   "cell_type": "code",
   "execution_count": 7,
   "id": "283282a7-0194-4089-a955-9466823c5297",
   "metadata": {},
   "outputs": [],
   "source": [
    "# Kafka Configuration\n",
    "KAFKA_BROKER = \"kafka:9092\"\n",
    "TOPIC = \"audio_vectors\"\n",
    "\n",
    "# Kafka Producer\n",
    "producer = Producer({\"bootstrap.servers\": KAFKA_BROKER})"
   ]
  },
  {
   "cell_type": "code",
   "execution_count": 8,
   "id": "c52b37fe-952a-49aa-ae09-6045899e1a58",
   "metadata": {},
   "outputs": [],
   "source": [
    "def create_audio_vector(audio_path):\n",
    "    audio_vector, sr = librosa.load(audio_path, sr=None)\n",
    "    return audio_vector.tolist(), sr  # Convert to JSON-serializable format"
   ]
  },
  {
   "cell_type": "code",
   "execution_count": 9,
   "id": "1e36b913-079a-4f1f-af81-efff0039e280",
   "metadata": {},
   "outputs": [
    {
     "ename": "NameError",
     "evalue": "name 'file_name' is not defined",
     "output_type": "error",
     "traceback": [
      "\u001b[0;31m---------------------------------------------------------------------------\u001b[0m",
      "\u001b[0;31mNameError\u001b[0m                                 Traceback (most recent call last)",
      "Cell \u001b[0;32mIn[9], line 5\u001b[0m\n\u001b[1;32m      2\u001b[0m audio_vector, sr \u001b[38;5;241m=\u001b[39m create_audio_vector(file_path)\n\u001b[1;32m      4\u001b[0m \u001b[38;5;66;03m# Send to Kafka as JSON\u001b[39;00m\n\u001b[0;32m----> 5\u001b[0m message \u001b[38;5;241m=\u001b[39m json\u001b[38;5;241m.\u001b[39mdumps({\u001b[38;5;124m\"\u001b[39m\u001b[38;5;124mfile_name\u001b[39m\u001b[38;5;124m\"\u001b[39m: file_name, \u001b[38;5;124m\"\u001b[39m\u001b[38;5;124maudio_vector\u001b[39m\u001b[38;5;124m\"\u001b[39m: audio_vector, \u001b[38;5;124m\"\u001b[39m\u001b[38;5;124msample_rate\u001b[39m\u001b[38;5;124m\"\u001b[39m: sr})\n\u001b[1;32m      6\u001b[0m producer\u001b[38;5;241m.\u001b[39mproduce(TOPIC, key\u001b[38;5;241m=\u001b[39mfile_name, value\u001b[38;5;241m=\u001b[39mmessage)\n\u001b[1;32m      7\u001b[0m producer\u001b[38;5;241m.\u001b[39mflush()\n",
      "\u001b[0;31mNameError\u001b[0m: name 'file_name' is not defined"
     ]
    }
   ],
   "source": [
    "for file_path in fans:\n",
    "    file_name = file_path.split(\"/\")[-1]\n",
    "    audio_vector, sr = create_audio_vector(file_path)\n",
    "    \n",
    "    # Send to Kafka as JSON\n",
    "    message = json.dumps({\"file_name\": file_name, \"audio_vector\": audio_vector, \"sample_rate\": sr})\n",
    "    producer.produce(TOPIC, key=file_name, value=message)\n",
    "    producer.flush()\n",
    "\n",
    "    print(f\"Produced: {file_name}\")"
   ]
  }
 ],
 "metadata": {
  "kernelspec": {
   "display_name": "Python 3 (ipykernel)",
   "language": "python",
   "name": "python3"
  },
  "language_info": {
   "codemirror_mode": {
    "name": "ipython",
    "version": 3
   },
   "file_extension": ".py",
   "mimetype": "text/x-python",
   "name": "python",
   "nbconvert_exporter": "python",
   "pygments_lexer": "ipython3",
   "version": "3.12.2"
  }
 },
 "nbformat": 4,
 "nbformat_minor": 5
}
