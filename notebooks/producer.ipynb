{
 "cells": [
  {
   "cell_type": "code",
   "execution_count": 1,
   "id": "cf24639c-761b-4384-ae5e-d29f09b10648",
   "metadata": {},
   "outputs": [],
   "source": [
    "from confluent_kafka import Producer\n",
    "import librosa\n",
    "import librosa.display\n",
    "import numpy as np\n",
    "import matplotlib.pyplot as plt\n",
    "import io\n",
    "import json\n",
    "import base64\n",
    "from glob import glob\n",
    "from PIL import Image\n",
    "import random\n",
    "import time"
   ]
  },
  {
   "cell_type": "code",
   "execution_count": 2,
   "id": "22544835-fee1-4af4-8e16-7dd2b6803c0e",
   "metadata": {},
   "outputs": [],
   "source": [
    "# Get all audio paths for specific machine type\n",
    "fans = glob('/opt/audio_files/*_fan/*/*/*.wav')\n",
    "random.shuffle(fans)"
   ]
  },
  {
   "cell_type": "code",
   "execution_count": 3,
   "id": "283282a7-0194-4089-a955-9466823c5297",
   "metadata": {},
   "outputs": [],
   "source": [
    "# Kafka Configuration\n",
    "KAFKA_BROKER = \"kafka:9092\"\n",
    "TOPIC = \"audio_spectrograms\"\n",
    "\n",
    "# Kafka Producer\n",
    "producer = Producer({\"bootstrap.servers\": KAFKA_BROKER})"
   ]
  },
  {
   "cell_type": "code",
   "execution_count": 4,
   "id": "c52b37fe-952a-49aa-ae09-6045899e1a58",
   "metadata": {},
   "outputs": [],
   "source": [
    "def create_spectrogram(audio_path):\n",
    "    # Load the .wav file\n",
    "    audio_vector, sr = librosa.load(audio_path, sr=None)\n",
    "\n",
    "    # Set the figure size and DPI to get a 224x224 image\n",
    "    fig_size = 224 / 100  # inches (224 pixels / 100 DPI)\n",
    "    dpi = 100  # Dots per inch\n",
    "\n",
    "    # Create Mel spectrogram\n",
    "    fig, ax = plt.subplots(figsize=(fig_size, fig_size), dpi=dpi)\n",
    "    ax.set_axis_off()\n",
    "    fig.subplots_adjust(left=0, right=1, top=1, bottom=0)  # Remove padding\n",
    "\n",
    "    sgram = librosa.stft(audio_vector)  # Extract STFT\n",
    "    sgram_mag, _ = librosa.magphase(sgram)\n",
    "    mel_scale_sgram = librosa.feature.melspectrogram(S=sgram_mag, sr=sr)\n",
    "    mel_sgram = librosa.amplitude_to_db(mel_scale_sgram, ref=np.min)  # Convert to dB\n",
    "\n",
    "    librosa.display.specshow(mel_sgram, sr=sr, ax=ax)\n",
    "\n",
    "    # Save spectrogram as PNG in memory buffer\n",
    "    buf = io.BytesIO()\n",
    "    plt.savefig(buf, format='png', bbox_inches='tight', pad_inches=0)\n",
    "    plt.close()\n",
    "\n",
    "    buf.seek(0)\n",
    "    spectrogram_bytes = buf.getvalue()  # Get raw PNG bytes\n",
    "    \n",
    "    return spectrogram_bytes"
   ]
  },
  {
   "cell_type": "code",
   "execution_count": 5,
   "id": "1e36b913-079a-4f1f-af81-efff0039e280",
   "metadata": {},
   "outputs": [
    {
     "name": "stdout",
     "output_type": "stream",
     "text": [
      "Produced Spectrogram: 00000677.wav, Class normal\n",
      "Produced Spectrogram: 00000322.wav, Class abnormal\n",
      "Produced Spectrogram: 00000631.wav, Class normal\n",
      "Produced Spectrogram: 00000342.wav, Class normal\n",
      "Produced Spectrogram: 00000855.wav, Class normal\n",
      "Produced Spectrogram: 00000515.wav, Class normal\n",
      "Produced Spectrogram: 00000795.wav, Class normal\n",
      "Produced Spectrogram: 00000166.wav, Class normal\n",
      "Produced Spectrogram: 00000857.wav, Class normal\n",
      "Produced Spectrogram: 00000235.wav, Class normal\n",
      "Produced Spectrogram: 00000876.wav, Class normal\n",
      "Produced Spectrogram: 00000412.wav, Class normal\n",
      "Produced Spectrogram: 00000724.wav, Class normal\n",
      "Produced Spectrogram: 00000863.wav, Class normal\n",
      "Produced Spectrogram: 00000485.wav, Class normal\n",
      "Produced Spectrogram: 00000554.wav, Class normal\n",
      "Produced Spectrogram: 00000325.wav, Class normal\n",
      "Produced Spectrogram: 00000915.wav, Class normal\n",
      "Produced Spectrogram: 00000856.wav, Class normal\n",
      "Produced Spectrogram: 00000390.wav, Class normal\n",
      "Produced Spectrogram: 00000140.wav, Class abnormal\n",
      "Produced Spectrogram: 00000181.wav, Class normal\n",
      "Produced Spectrogram: 00000199.wav, Class abnormal\n",
      "Produced Spectrogram: 00000291.wav, Class abnormal\n",
      "Produced Spectrogram: 00000155.wav, Class abnormal\n",
      "Produced Spectrogram: 00000371.wav, Class normal\n",
      "Produced Spectrogram: 00000237.wav, Class normal\n",
      "Produced Spectrogram: 00000866.wav, Class normal\n",
      "Produced Spectrogram: 00000485.wav, Class normal\n",
      "Produced Spectrogram: 00000649.wav, Class normal\n",
      "Produced Spectrogram: 00000705.wav, Class normal\n",
      "Produced Spectrogram: 00000022.wav, Class normal\n",
      "Produced Spectrogram: 00000770.wav, Class normal\n",
      "Produced Spectrogram: 00000078.wav, Class abnormal\n",
      "Produced Spectrogram: 00000894.wav, Class normal\n",
      "Produced Spectrogram: 00000323.wav, Class abnormal\n",
      "Produced Spectrogram: 00000213.wav, Class normal\n",
      "Produced Spectrogram: 00000065.wav, Class normal\n",
      "Produced Spectrogram: 00000685.wav, Class normal\n",
      "Produced Spectrogram: 00000903.wav, Class normal\n",
      "Produced Spectrogram: 00000030.wav, Class normal\n",
      "Produced Spectrogram: 00000015.wav, Class normal\n",
      "Produced Spectrogram: 00000178.wav, Class abnormal\n",
      "Produced Spectrogram: 00000296.wav, Class normal\n",
      "Produced Spectrogram: 00000208.wav, Class abnormal\n",
      "Produced Spectrogram: 00000170.wav, Class normal\n",
      "Produced Spectrogram: 00000209.wav, Class abnormal\n",
      "Produced Spectrogram: 00000627.wav, Class normal\n",
      "Produced Spectrogram: 00000984.wav, Class normal\n",
      "Produced Spectrogram: 00000150.wav, Class normal\n",
      "Produced Spectrogram: 00000846.wav, Class normal\n",
      "Produced Spectrogram: 00000633.wav, Class normal\n",
      "Produced Spectrogram: 00000255.wav, Class abnormal\n",
      "Produced Spectrogram: 00000450.wav, Class normal\n",
      "Produced Spectrogram: 00000004.wav, Class normal\n",
      "Produced Spectrogram: 00000022.wav, Class normal\n",
      "Produced Spectrogram: 00000566.wav, Class normal\n",
      "Produced Spectrogram: 00000077.wav, Class abnormal\n",
      "Produced Spectrogram: 00000142.wav, Class normal\n",
      "Produced Spectrogram: 00000213.wav, Class abnormal\n",
      "Produced Spectrogram: 00000433.wav, Class normal\n"
     ]
    },
    {
     "ename": "KeyboardInterrupt",
     "evalue": "",
     "output_type": "error",
     "traceback": [
      "\u001b[0;31m---------------------------------------------------------------------------\u001b[0m",
      "\u001b[0;31mKeyboardInterrupt\u001b[0m                         Traceback (most recent call last)",
      "Cell \u001b[0;32mIn[5], line 16\u001b[0m\n\u001b[1;32m     13\u001b[0m \u001b[38;5;28mprint\u001b[39m(\u001b[38;5;124mf\u001b[39m\u001b[38;5;124m\"\u001b[39m\u001b[38;5;124mProduced Spectrogram: \u001b[39m\u001b[38;5;132;01m{\u001b[39;00mfile_name\u001b[38;5;132;01m}\u001b[39;00m\u001b[38;5;124m, Class \u001b[39m\u001b[38;5;132;01m{\u001b[39;00maudio_class\u001b[38;5;132;01m}\u001b[39;00m\u001b[38;5;124m\"\u001b[39m)\n\u001b[1;32m     15\u001b[0m \u001b[38;5;66;03m# Wait 1 second before sending the next message\u001b[39;00m\n\u001b[0;32m---> 16\u001b[0m time\u001b[38;5;241m.\u001b[39msleep(\u001b[38;5;241m1\u001b[39m)\n",
      "\u001b[0;31mKeyboardInterrupt\u001b[0m: "
     ]
    }
   ],
   "source": [
    "for audio_path in fans:\n",
    "    file_name = audio_path.split(\"/\")[-1]\n",
    "    audio_class = audio_path.split(\"/\")[-2]  # Extract class from folder structure\n",
    "    spectrogram_bytes = create_spectrogram(audio_path)\n",
    "\n",
    "    # Create Kafka message (Metadata)\n",
    "    metadata = json.dumps({\"file_name\": file_name, \"class\": audio_class}).encode(\"utf-8\")\n",
    "    \n",
    "    # Send message header (Metadata) + Raw PNG image\n",
    "    producer.produce(TOPIC, key=file_name, value=spectrogram_bytes, headers=[(\"metadata\", metadata)])\n",
    "    producer.flush()\n",
    "\n",
    "    print(f\"Produced Spectrogram: {file_name}, Class {audio_class}\")\n",
    "\n",
    "    # Wait 1 second before sending the next message\n",
    "    time.sleep(1)"
   ]
  },
  {
   "cell_type": "code",
   "execution_count": null,
   "id": "6c5a7357-bc19-464f-b25c-fe92a0c68699",
   "metadata": {},
   "outputs": [],
   "source": []
  }
 ],
 "metadata": {
  "kernelspec": {
   "display_name": "Python 3 (ipykernel)",
   "language": "python",
   "name": "python3"
  },
  "language_info": {
   "codemirror_mode": {
    "name": "ipython",
    "version": 3
   },
   "file_extension": ".py",
   "mimetype": "text/x-python",
   "name": "python",
   "nbconvert_exporter": "python",
   "pygments_lexer": "ipython3",
   "version": "3.12.2"
  }
 },
 "nbformat": 4,
 "nbformat_minor": 5
}
