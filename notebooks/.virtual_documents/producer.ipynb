from confluent_kafka import Producer
import librosa
import librosa.display
import numpy as np
import matplotlib.pyplot as plt
import io
import json
import base64
from glob import glob
from PIL import Image
import random
import time


fans = glob('/opt/audio_files/*_fan/*/*/*.wav')
random.shuffle(fans)


# Kafka Configuration
KAFKA_BROKER = "kafka:9092"
TOPIC = "audio_spectrograms"

# Kafka Producer
producer = Producer({"bootstrap.servers": KAFKA_BROKER})


def create_spectrogram(audio_path):
    # Load the .wav file
    audio_vector, sr = librosa.load(audio_path, sr=None)

    # Set the figure size and DPI to get a 224x224 image
    fig_size = 224 / 100  # inches (224 pixels / 100 DPI)
    dpi = 100  # Dots per inch

    # Create Mel spectrogram
    fig, ax = plt.subplots(figsize=(fig_size, fig_size), dpi=dpi)
    ax.set_axis_off()
    fig.subplots_adjust(left=0, right=1, top=1, bottom=0)  # Remove padding

    sgram = librosa.stft(audio_vector)  # Extract STFT
    sgram_mag, _ = librosa.magphase(sgram)
    mel_scale_sgram = librosa.feature.melspectrogram(S=sgram_mag, sr=sr)
    mel_sgram = librosa.amplitude_to_db(mel_scale_sgram, ref=np.min)  # Convert to dB

    librosa.display.specshow(mel_sgram, sr=sr, ax=ax)

    # Save spectrogram as PNG in memory buffer
    buf = io.BytesIO()
    plt.savefig(buf, format='png', bbox_inches='tight', pad_inches=0)
    plt.close()

    buf.seek(0)
    spectrogram_bytes = buf.getvalue()  # Get raw PNG bytes
    
    return spectrogram_bytes


for audio_path in fans:
    file_name = audio_path.split("/")[-1]
    audio_class = audio_path.split("/")[-2]  # Extract class from folder structure
    spectrogram_bytes = create_spectrogram(audio_path)

    # Create Kafka message (Metadata)
    metadata = json.dumps({"file_name": file_name, "class": audio_class}).encode("utf-8")
    
    # Send message header (Metadata) + Raw PNG image
    producer.produce(TOPIC, key=file_name, value=spectrogram_bytes, headers=[("metadata", metadata)])
    producer.flush()

    print(f"Produced Spectrogram: {file_name}, Class {audio_class}")

    # Wait 1 second before sending the next message
    time.sleep(1)



