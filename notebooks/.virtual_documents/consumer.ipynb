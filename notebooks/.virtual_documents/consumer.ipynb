from confluent_kafka import Consumer
import base64
import json
import io
import numpy as np
import cv2
from PIL import Image
from ultralytics import YOLO


# Kafka Configuration
KAFKA_BROKER = "kafka:9092"
TOPIC = "audio_spectrograms"
GROUP_ID = "spectrograms_prediction"


consumer = Consumer({
    "bootstrap.servers": KAFKA_BROKER,
    "group.id": GROUP_ID,
    "auto.offset.reset": "earliest"
})


consumer.subscribe([TOPIC])


# Load model from mounted volume
model = YOLO('/opt/audio_files/full_models/runs/classify/train/weights/last.pt')


# Decode spectrogram
def decode_spectrogram(image_bytes):
    image = Image.open(io.BytesIO(image_bytes)).convert("RGB")  
    return image  


# Consume messages
print("Waiting for spectrogram messages...")
while True:
    msg = consumer.poll(1.0)  # Wait 1 second for a message
    if msg is None:
        continue
    if msg.error():
        print(f"Consumer error: {msg.error()}")
        continue


    headers = msg.headers()
    if headers:
        headers_dict = dict(headers)
        metadata = json.loads(headers_dict.get("metadata", "{}").decode("utf-8"))
        file_name = metadata.get("file_name", "unknown")
        audio_class = metadata.get("class", "unknown")
    else:
        file_name = "unknown"
        audio_class = "unknown"

    print(f"Processing Spectrogram: {file_name}, Class: {audio_class}")

    # Decode Spectrogram (Raw PNG bytes)
    spectrogram_image = decode_spectrogram(msg.value())

    # Run Prediction on YOLO Model
    pred = model(spectrogram_image, verbose=False)
    pred_class = np.argmax(pred[0].probs.data.numpy())

    # Convert predicted class to label
    pred_label = "abnormal" if pred_class == 0 else "normal"
    print(f"Prediction for {file_name}: {pred_label}")



